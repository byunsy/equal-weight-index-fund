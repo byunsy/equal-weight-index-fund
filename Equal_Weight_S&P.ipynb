{
  "nbformat": 4,
  "nbformat_minor": 0,
  "metadata": {
    "colab": {
      "name": "Equal_Weight_S&P.ipynb",
      "provenance": [],
      "collapsed_sections": [],
      "authorship_tag": "ABX9TyM7tQWAhlU0MmyHlTdkzXIw",
      "include_colab_link": true
    },
    "kernelspec": {
      "name": "python3",
      "display_name": "Python 3"
    }
  },
  "cells": [
    {
      "cell_type": "markdown",
      "metadata": {
        "id": "view-in-github",
        "colab_type": "text"
      },
      "source": [
        "<a href=\"https://colab.research.google.com/github/byunsy/equal-weight-index-fund/blob/main/Equal_Weight_S%26P.ipynb\" target=\"_parent\"><img src=\"https://colab.research.google.com/assets/colab-badge.svg\" alt=\"Open In Colab\"/></a>"
      ]
    },
    {
      "cell_type": "markdown",
      "metadata": {
        "id": "Grfczjy-L7Ga"
      },
      "source": [
        "# Equal-Weight S&P 500 Index Fund"
      ]
    },
    {
      "cell_type": "markdown",
      "metadata": {
        "id": "LceYdVelMCVc"
      },
      "source": [
        "## Import Necessary Modules"
      ]
    },
    {
      "cell_type": "code",
      "metadata": {
        "id": "zuOCOa2DLK8W"
      },
      "source": [
        "import numpy as np \r\n",
        "import pandas as pd \r\n",
        "import requests \r\n",
        "import math "
      ],
      "execution_count": 3,
      "outputs": []
    },
    {
      "cell_type": "code",
      "metadata": {
        "id": "w1HIyDNuMJR6"
      },
      "source": [
        "!pip install -q finance-datareader\r\n",
        "import FinanceDataReader as fdr"
      ],
      "execution_count": 4,
      "outputs": []
    },
    {
      "cell_type": "markdown",
      "metadata": {
        "id": "lIaXQ4aaORbf"
      },
      "source": [
        "## Attain S&P Stock Listing"
      ]
    },
    {
      "cell_type": "code",
      "metadata": {
        "colab": {
          "base_uri": "https://localhost:8080/",
          "height": 359
        },
        "id": "5NKHVei0NMU3",
        "outputId": "f062432e-8cef-4b81-b02b-268090c7ac93"
      },
      "source": [
        "sp500 = fdr.StockListing('S&P500')\r\n",
        "sp500.head(10)"
      ],
      "execution_count": 5,
      "outputs": [
        {
          "output_type": "execute_result",
          "data": {
            "text/html": [
              "<div>\n",
              "<style scoped>\n",
              "    .dataframe tbody tr th:only-of-type {\n",
              "        vertical-align: middle;\n",
              "    }\n",
              "\n",
              "    .dataframe tbody tr th {\n",
              "        vertical-align: top;\n",
              "    }\n",
              "\n",
              "    .dataframe thead th {\n",
              "        text-align: right;\n",
              "    }\n",
              "</style>\n",
              "<table border=\"1\" class=\"dataframe\">\n",
              "  <thead>\n",
              "    <tr style=\"text-align: right;\">\n",
              "      <th></th>\n",
              "      <th>Symbol</th>\n",
              "      <th>Name</th>\n",
              "      <th>Sector</th>\n",
              "      <th>Industry</th>\n",
              "    </tr>\n",
              "  </thead>\n",
              "  <tbody>\n",
              "    <tr>\n",
              "      <th>0</th>\n",
              "      <td>MMM</td>\n",
              "      <td>3M Company</td>\n",
              "      <td>Industrials</td>\n",
              "      <td>Industrial Conglomerates</td>\n",
              "    </tr>\n",
              "    <tr>\n",
              "      <th>1</th>\n",
              "      <td>ABT</td>\n",
              "      <td>Abbott Laboratories</td>\n",
              "      <td>Health Care</td>\n",
              "      <td>Health Care Equipment</td>\n",
              "    </tr>\n",
              "    <tr>\n",
              "      <th>2</th>\n",
              "      <td>ABBV</td>\n",
              "      <td>AbbVie Inc.</td>\n",
              "      <td>Health Care</td>\n",
              "      <td>Pharmaceuticals</td>\n",
              "    </tr>\n",
              "    <tr>\n",
              "      <th>3</th>\n",
              "      <td>ABMD</td>\n",
              "      <td>ABIOMED Inc</td>\n",
              "      <td>Health Care</td>\n",
              "      <td>Health Care Equipment</td>\n",
              "    </tr>\n",
              "    <tr>\n",
              "      <th>4</th>\n",
              "      <td>ACN</td>\n",
              "      <td>Accenture plc</td>\n",
              "      <td>Information Technology</td>\n",
              "      <td>IT Consulting &amp; Other Services</td>\n",
              "    </tr>\n",
              "    <tr>\n",
              "      <th>5</th>\n",
              "      <td>ATVI</td>\n",
              "      <td>Activision Blizzard</td>\n",
              "      <td>Communication Services</td>\n",
              "      <td>Interactive Home Entertainment</td>\n",
              "    </tr>\n",
              "    <tr>\n",
              "      <th>6</th>\n",
              "      <td>ADBE</td>\n",
              "      <td>Adobe Inc.</td>\n",
              "      <td>Information Technology</td>\n",
              "      <td>Application Software</td>\n",
              "    </tr>\n",
              "    <tr>\n",
              "      <th>7</th>\n",
              "      <td>AMD</td>\n",
              "      <td>Advanced Micro Devices Inc</td>\n",
              "      <td>Information Technology</td>\n",
              "      <td>Semiconductors</td>\n",
              "    </tr>\n",
              "    <tr>\n",
              "      <th>8</th>\n",
              "      <td>AAP</td>\n",
              "      <td>Advance Auto Parts</td>\n",
              "      <td>Consumer Discretionary</td>\n",
              "      <td>Automotive Retail</td>\n",
              "    </tr>\n",
              "    <tr>\n",
              "      <th>9</th>\n",
              "      <td>AES</td>\n",
              "      <td>AES Corp</td>\n",
              "      <td>Utilities</td>\n",
              "      <td>Independent Power Producers &amp; Energy Traders</td>\n",
              "    </tr>\n",
              "  </tbody>\n",
              "</table>\n",
              "</div>"
            ],
            "text/plain": [
              "  Symbol  ...                                      Industry\n",
              "0    MMM  ...                      Industrial Conglomerates\n",
              "1    ABT  ...                         Health Care Equipment\n",
              "2   ABBV  ...                               Pharmaceuticals\n",
              "3   ABMD  ...                         Health Care Equipment\n",
              "4    ACN  ...                IT Consulting & Other Services\n",
              "5   ATVI  ...                Interactive Home Entertainment\n",
              "6   ADBE  ...                          Application Software\n",
              "7    AMD  ...                                Semiconductors\n",
              "8    AAP  ...                             Automotive Retail\n",
              "9    AES  ...  Independent Power Producers & Energy Traders\n",
              "\n",
              "[10 rows x 4 columns]"
            ]
          },
          "metadata": {
            "tags": []
          },
          "execution_count": 5
        }
      ]
    },
    {
      "cell_type": "code",
      "metadata": {
        "colab": {
          "base_uri": "https://localhost:8080/"
        },
        "id": "Rr_jgYbuNObv",
        "outputId": "bb7b13e9-2326-49b2-f234-9c6ec3066d16"
      },
      "source": [
        "sp500['Symbol']"
      ],
      "execution_count": 6,
      "outputs": [
        {
          "output_type": "execute_result",
          "data": {
            "text/plain": [
              "0       MMM\n",
              "1       ABT\n",
              "2      ABBV\n",
              "3      ABMD\n",
              "4       ACN\n",
              "       ... \n",
              "500     YUM\n",
              "501    ZBRA\n",
              "502     ZBH\n",
              "503    ZION\n",
              "504     ZTS\n",
              "Name: Symbol, Length: 505, dtype: object"
            ]
          },
          "metadata": {
            "tags": []
          },
          "execution_count": 6
        }
      ]
    },
    {
      "cell_type": "markdown",
      "metadata": {
        "id": "qxr3ftvEOV4r"
      },
      "source": [
        "## API Call"
      ]
    },
    {
      "cell_type": "markdown",
      "metadata": {
        "id": "V3uKEyR0Og57"
      },
      "source": [
        "We first need to have a test api token to use IEX Cloud APIs (This will remain private). You can receive sandbox Text APIs from the IEX Cloud API website. "
      ]
    },
    {
      "cell_type": "code",
      "metadata": {
        "id": "X_g9noEVN65I"
      },
      "source": [
        "from google.colab import files\r\n",
        "uploaded = files.upload()"
      ],
      "execution_count": null,
      "outputs": []
    },
    {
      "cell_type": "code",
      "metadata": {
        "id": "3vZR7kL1OENv"
      },
      "source": [
        "from iex_api import IEX_CLOUD_API_TOKEN"
      ],
      "execution_count": null,
      "outputs": []
    },
    {
      "cell_type": "code",
      "metadata": {
        "colab": {
          "base_uri": "https://localhost:8080/"
        },
        "id": "4zGgtCBEOc-K",
        "outputId": "58ae43bd-eaae-4d71-aa16-0b448386bf93"
      },
      "source": [
        "# To take an example of what we get from IEX Cloud, we will take Microsoft\r\n",
        "symbol='MSFT'\r\n",
        "api_url = f'https://sandbox.iexapis.com/stable/stock/{symbol}/quote?token={IEX_CLOUD_API_TOKEN}'\r\n",
        "ms_data = requests.get(api_url).json()\r\n",
        "\r\n",
        "ms_data"
      ],
      "execution_count": 17,
      "outputs": [
        {
          "output_type": "execute_result",
          "data": {
            "text/plain": [
              "{'avgTotalVolume': 25874593,\n",
              " 'calculationPrice': 'close',\n",
              " 'change': 0.64,\n",
              " 'changePercent': 0.00289,\n",
              " 'close': None,\n",
              " 'closeSource': 'aciliffo',\n",
              " 'closeTime': None,\n",
              " 'companyName': 'Microsoft Corporation',\n",
              " 'delayedPrice': None,\n",
              " 'delayedPriceTime': None,\n",
              " 'extendedChange': None,\n",
              " 'extendedChangePercent': None,\n",
              " 'extendedPrice': None,\n",
              " 'extendedPriceTime': None,\n",
              " 'high': None,\n",
              " 'highSource': None,\n",
              " 'highTime': None,\n",
              " 'iexAskPrice': 0,\n",
              " 'iexAskSize': 0,\n",
              " 'iexBidPrice': 0,\n",
              " 'iexBidSize': 0,\n",
              " 'iexClose': 229,\n",
              " 'iexCloseTime': 1642175775251,\n",
              " 'iexLastUpdated': 1653404570424,\n",
              " 'iexMarketPercent': 0.0012525032924742827,\n",
              " 'iexOpen': 226.58,\n",
              " 'iexOpenTime': 1655670244636,\n",
              " 'iexRealtimePrice': 237,\n",
              " 'iexRealtimeSize': 34,\n",
              " 'iexVolume': 172,\n",
              " 'isUSMarketOpen': False,\n",
              " 'lastTradeTime': 1658274761699,\n",
              " 'latestPrice': 230.29,\n",
              " 'latestSource': 'Close',\n",
              " 'latestTime': 'January 21, 2021',\n",
              " 'latestUpdate': 1645357931495,\n",
              " 'latestVolume': None,\n",
              " 'low': None,\n",
              " 'lowSource': None,\n",
              " 'lowTime': None,\n",
              " 'marketCap': 1731458494926,\n",
              " 'oddLotDelayedPrice': None,\n",
              " 'oddLotDelayedPriceTime': None,\n",
              " 'open': None,\n",
              " 'openSource': 'iolaficf',\n",
              " 'openTime': None,\n",
              " 'peRatio': 36.62,\n",
              " 'previousClose': 227.12,\n",
              " 'previousVolume': 38508047,\n",
              " 'primaryExchange': 'RKMTANSEST(LEAOLDL ACEG)B N GAS/Q',\n",
              " 'symbol': 'MSFT',\n",
              " 'volume': None,\n",
              " 'week52High': 236.8,\n",
              " 'week52Low': 140.28,\n",
              " 'ytdChange': 0.01481023991259633}"
            ]
          },
          "metadata": {
            "tags": []
          },
          "execution_count": 17
        }
      ]
    },
    {
      "cell_type": "markdown",
      "metadata": {
        "id": "HC1m-8NPPuVG"
      },
      "source": [
        "We can now get specific information about our data using indices. "
      ]
    },
    {
      "cell_type": "code",
      "metadata": {
        "colab": {
          "base_uri": "https://localhost:8080/"
        },
        "id": "khNVM2sCPPzL",
        "outputId": "2ff9dc73-9fe8-40d0-9e02-a9d865d5b738"
      },
      "source": [
        "print(\"LATEST PRICE:\", ms_data['latestPrice'])\r\n",
        "print(\"MARKET CAPITALIZATION:\", ms_data['marketCap'])"
      ],
      "execution_count": 18,
      "outputs": [
        {
          "output_type": "stream",
          "text": [
            "LATEST PRICE: 230.29\n",
            "MARKET CAPITALIZATION: 1731458494926\n"
          ],
          "name": "stdout"
        }
      ]
    },
    {
      "cell_type": "markdown",
      "metadata": {
        "id": "6SsYpYjdP1vB"
      },
      "source": [
        "## Data Preprocessing\r\n"
      ]
    },
    {
      "cell_type": "markdown",
      "metadata": {
        "id": "yJn98sCOQDji"
      },
      "source": [
        "We will now transfer our attained data into a data frame. "
      ]
    },
    {
      "cell_type": "code",
      "metadata": {
        "id": "-t7PGS9RQTDT"
      },
      "source": [
        "df_columns = ['Symbol', 'Latest Price','Market Capitalization', 'Number Of Shares to Purchase']\r\n",
        "df = pd.DataFrame(columns=df_columns)\r\n",
        "\r\n",
        "for symbol in sp500['Symbol']:\r\n",
        "    api_url = f'https://sandbox.iexapis.com/stable/stock/{symbol}/quote?token={IEX_CLOUD_API_TOKEN}'\r\n",
        "    data = requests.get(api_url).json()\r\n",
        "    df = df.append(pd.Series([symbol, data['latestPrice'], \r\n",
        "                              data['marketCap'], 'N/A'], index=df_columns), \r\n",
        "                              ignore_index = True)\r\n",
        "df   "
      ],
      "execution_count": null,
      "outputs": []
    },
    {
      "cell_type": "markdown",
      "metadata": {
        "id": "jmXGHXlfSjsk"
      },
      "source": [
        "However we realize this takes quite a long time to process. This is because API calls can be time-consuming. One way to cope with this is to use batch API calls."
      ]
    },
    {
      "cell_type": "code",
      "metadata": {
        "id": "NFmPmWXIUInP"
      },
      "source": [
        "def chunks(lst, n):\r\n",
        "    for i in range(0, len(lst), n):\r\n",
        "        yield lst[i:i + n]"
      ],
      "execution_count": null,
      "outputs": []
    },
    {
      "cell_type": "code",
      "metadata": {
        "id": "OnT0dFi1UlVm"
      },
      "source": [
        "symbol_groups = list(chunks(stocks['Ticker'], 100))\r\n",
        "symbol_strings = []\r\n",
        "\r\n",
        "for i in range(0, len(symbol_groups)):\r\n",
        "    symbol_strings.append(','.join(symbol_groups[i]))\r\n",
        "\r\n",
        "final_dataframe = pd.DataFrame(columns = my_columns)\r\n",
        "\r\n",
        "for symbol_string in symbol_strings:\r\n",
        "    \r\n",
        "    batch_api_call_url = f'https://sandbox.iexapis.com/stable/stock/market/batch/?types=quote&symbols={symbol_string}&token={IEX_CLOUD_API_TOKEN}'\r\n",
        "    data = requests.get(batch_api_call_url).json()\r\n",
        "\r\n",
        "    for symbol in symbol_string.split(','):\r\n",
        "        final_dataframe = final_dataframe.append(\r\n",
        "                                        pd.Series([symbol, \r\n",
        "                                                   data[symbol]['quote']['latestPrice'], \r\n",
        "                                                   data[symbol]['quote']['marketCap'], \r\n",
        "                                                   'N/A'], \r\n",
        "                                                  index = my_columns), \r\n",
        "                                        ignore_index = True)\r\n",
        "        \r\n",
        "    \r\n",
        "final_dataframe"
      ],
      "execution_count": null,
      "outputs": []
    }
  ]
}