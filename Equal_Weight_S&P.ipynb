{
  "nbformat": 4,
  "nbformat_minor": 0,
  "metadata": {
    "colab": {
      "name": "Equal_Weight_S&P.ipynb",
      "provenance": [],
      "collapsed_sections": [],
      "authorship_tag": "ABX9TyO97m7z8jVqULdtD0Qx0o88",
      "include_colab_link": true
    },
    "kernelspec": {
      "name": "python3",
      "display_name": "Python 3"
    }
  },
  "cells": [
    {
      "cell_type": "markdown",
      "metadata": {
        "id": "view-in-github",
        "colab_type": "text"
      },
      "source": [
        "<a href=\"https://colab.research.google.com/github/byunsy/equal-weight-index-fund/blob/main/Equal_Weight_S%26P.ipynb\" target=\"_parent\"><img src=\"https://colab.research.google.com/assets/colab-badge.svg\" alt=\"Open In Colab\"/></a>"
      ]
    },
    {
      "cell_type": "markdown",
      "metadata": {
        "id": "Grfczjy-L7Ga"
      },
      "source": [
        "# Equal-Weight S&P 500 Index Fund"
      ]
    },
    {
      "cell_type": "markdown",
      "metadata": {
        "id": "zL26vzElm4j9"
      },
      "source": [
        "This notebook is quite a short study on how to calculate how many shares of each S&P 500 constituent we should purchase to get an equally weighted index fund. "
      ]
    },
    {
      "cell_type": "markdown",
      "metadata": {
        "id": "LceYdVelMCVc"
      },
      "source": [
        "## Import Necessary Modules"
      ]
    },
    {
      "cell_type": "code",
      "metadata": {
        "id": "zuOCOa2DLK8W"
      },
      "source": [
        "import numpy as np \r\n",
        "import pandas as pd \r\n",
        "import requests \r\n",
        "import math "
      ],
      "execution_count": 3,
      "outputs": []
    },
    {
      "cell_type": "code",
      "metadata": {
        "id": "w1HIyDNuMJR6"
      },
      "source": [
        "!pip install -q finance-datareader\r\n",
        "import FinanceDataReader as fdr"
      ],
      "execution_count": 4,
      "outputs": []
    },
    {
      "cell_type": "code",
      "metadata": {
        "id": "X_g9noEVN65I"
      },
      "source": [
        "from google.colab import files\r\n",
        "uploaded = files.upload()"
      ],
      "execution_count": null,
      "outputs": []
    },
    {
      "cell_type": "markdown",
      "metadata": {
        "id": "lIaXQ4aaORbf"
      },
      "source": [
        "## Attain S&P Stock Listing"
      ]
    },
    {
      "cell_type": "markdown",
      "metadata": {
        "id": "52dgnCUKnXYi"
      },
      "source": [
        "Get a list of all the companies in the S&P 500. "
      ]
    },
    {
      "cell_type": "code",
      "metadata": {
        "colab": {
          "base_uri": "https://localhost:8080/",
          "height": 419
        },
        "id": "KdHT-BgOdqEK",
        "outputId": "8f8e1f2e-c05d-47eb-9135-8e38330c589e"
      },
      "source": [
        "sp500 = pd.read_csv('sp_500_stocks.csv')\r\n",
        "sp500"
      ],
      "execution_count": 26,
      "outputs": [
        {
          "output_type": "execute_result",
          "data": {
            "text/html": [
              "<div>\n",
              "<style scoped>\n",
              "    .dataframe tbody tr th:only-of-type {\n",
              "        vertical-align: middle;\n",
              "    }\n",
              "\n",
              "    .dataframe tbody tr th {\n",
              "        vertical-align: top;\n",
              "    }\n",
              "\n",
              "    .dataframe thead th {\n",
              "        text-align: right;\n",
              "    }\n",
              "</style>\n",
              "<table border=\"1\" class=\"dataframe\">\n",
              "  <thead>\n",
              "    <tr style=\"text-align: right;\">\n",
              "      <th></th>\n",
              "      <th>Symbol</th>\n",
              "    </tr>\n",
              "  </thead>\n",
              "  <tbody>\n",
              "    <tr>\n",
              "      <th>0</th>\n",
              "      <td>A</td>\n",
              "    </tr>\n",
              "    <tr>\n",
              "      <th>1</th>\n",
              "      <td>AAL</td>\n",
              "    </tr>\n",
              "    <tr>\n",
              "      <th>2</th>\n",
              "      <td>AAP</td>\n",
              "    </tr>\n",
              "    <tr>\n",
              "      <th>3</th>\n",
              "      <td>AAPL</td>\n",
              "    </tr>\n",
              "    <tr>\n",
              "      <th>4</th>\n",
              "      <td>ABBV</td>\n",
              "    </tr>\n",
              "    <tr>\n",
              "      <th>...</th>\n",
              "      <td>...</td>\n",
              "    </tr>\n",
              "    <tr>\n",
              "      <th>500</th>\n",
              "      <td>YUM</td>\n",
              "    </tr>\n",
              "    <tr>\n",
              "      <th>501</th>\n",
              "      <td>ZBH</td>\n",
              "    </tr>\n",
              "    <tr>\n",
              "      <th>502</th>\n",
              "      <td>ZBRA</td>\n",
              "    </tr>\n",
              "    <tr>\n",
              "      <th>503</th>\n",
              "      <td>ZION</td>\n",
              "    </tr>\n",
              "    <tr>\n",
              "      <th>504</th>\n",
              "      <td>ZTS</td>\n",
              "    </tr>\n",
              "  </tbody>\n",
              "</table>\n",
              "<p>505 rows × 1 columns</p>\n",
              "</div>"
            ],
            "text/plain": [
              "    Symbol\n",
              "0        A\n",
              "1      AAL\n",
              "2      AAP\n",
              "3     AAPL\n",
              "4     ABBV\n",
              "..     ...\n",
              "500    YUM\n",
              "501    ZBH\n",
              "502   ZBRA\n",
              "503   ZION\n",
              "504    ZTS\n",
              "\n",
              "[505 rows x 1 columns]"
            ]
          },
          "metadata": {
            "tags": []
          },
          "execution_count": 26
        }
      ]
    },
    {
      "cell_type": "markdown",
      "metadata": {
        "id": "qxr3ftvEOV4r"
      },
      "source": [
        "## API Call"
      ]
    },
    {
      "cell_type": "markdown",
      "metadata": {
        "id": "V3uKEyR0Og57"
      },
      "source": [
        "We first need to have a test api token to use IEX Cloud APIs (This will remain private). You can receive sandbox Text APIs from the IEX Cloud API website. "
      ]
    },
    {
      "cell_type": "code",
      "metadata": {
        "id": "3vZR7kL1OENv"
      },
      "source": [
        "from iex_api import IEX_CLOUD_API_TOKEN"
      ],
      "execution_count": null,
      "outputs": []
    },
    {
      "cell_type": "code",
      "metadata": {
        "colab": {
          "base_uri": "https://localhost:8080/"
        },
        "id": "4zGgtCBEOc-K",
        "outputId": "48b43280-55ea-4ea9-f3bf-f0240e9089c9"
      },
      "source": [
        "# To take an example of what we get from IEX Cloud, we will take Microsoft\r\n",
        "symbol='MSFT'\r\n",
        "api_url = f'https://sandbox.iexapis.com/stable/stock/{symbol}/quote?token={IEX_CLOUD_API_TOKEN}'\r\n",
        "ms_data = requests.get(api_url).json()\r\n",
        "\r\n",
        "ms_data"
      ],
      "execution_count": 27,
      "outputs": [
        {
          "output_type": "execute_result",
          "data": {
            "text/plain": [
              "{'avgTotalVolume': 26439018,\n",
              " 'calculationPrice': 'close',\n",
              " 'change': 0.63,\n",
              " 'changePercent': 0.00284,\n",
              " 'close': None,\n",
              " 'closeSource': 'oaliciff',\n",
              " 'closeTime': None,\n",
              " 'companyName': 'Microsoft Corporation',\n",
              " 'delayedPrice': None,\n",
              " 'delayedPriceTime': None,\n",
              " 'extendedChange': None,\n",
              " 'extendedChangePercent': None,\n",
              " 'extendedPrice': None,\n",
              " 'extendedPriceTime': None,\n",
              " 'high': None,\n",
              " 'highSource': None,\n",
              " 'highTime': None,\n",
              " 'iexAskPrice': 0,\n",
              " 'iexAskSize': 0,\n",
              " 'iexBidPrice': 0,\n",
              " 'iexBidSize': 0,\n",
              " 'iexClose': 231.06,\n",
              " 'iexCloseTime': 1674193133784,\n",
              " 'iexLastUpdated': 1676207857158,\n",
              " 'iexMarketPercent': 0.0025636064874515084,\n",
              " 'iexOpen': 235.38,\n",
              " 'iexOpenTime': 1680901496278,\n",
              " 'iexRealtimePrice': 228.82,\n",
              " 'iexRealtimeSize': 35,\n",
              " 'iexVolume': 901,\n",
              " 'isUSMarketOpen': False,\n",
              " 'lastTradeTime': 1613298155475,\n",
              " 'latestPrice': 234.11,\n",
              " 'latestSource': 'Close',\n",
              " 'latestTime': 'January 21, 2021',\n",
              " 'latestUpdate': 1641572971687,\n",
              " 'latestVolume': None,\n",
              " 'low': None,\n",
              " 'lowSource': None,\n",
              " 'lowTime': None,\n",
              " 'marketCap': 1729153670698,\n",
              " 'oddLotDelayedPrice': None,\n",
              " 'oddLotDelayedPriceTime': None,\n",
              " 'open': None,\n",
              " 'openSource': 'aoifcfil',\n",
              " 'openTime': None,\n",
              " 'peRatio': 37.59,\n",
              " 'previousClose': 233.97,\n",
              " 'previousVolume': 37803823,\n",
              " 'primaryExchange': ') S (TLCAGSQ/ASLEEAKBAMLND GEONTR',\n",
              " 'symbol': 'MSFT',\n",
              " 'volume': None,\n",
              " 'week52High': 231.67,\n",
              " 'week52Low': 136.24,\n",
              " 'ytdChange': 0.014979140081002413}"
            ]
          },
          "metadata": {
            "tags": []
          },
          "execution_count": 27
        }
      ]
    },
    {
      "cell_type": "markdown",
      "metadata": {
        "id": "HC1m-8NPPuVG"
      },
      "source": [
        "We can now get specific information about our data using indices. "
      ]
    },
    {
      "cell_type": "code",
      "metadata": {
        "colab": {
          "base_uri": "https://localhost:8080/"
        },
        "id": "khNVM2sCPPzL",
        "outputId": "39e34a0f-1311-4365-e452-ebd611a5da0e"
      },
      "source": [
        "print(\"LATEST PRICE:\", ms_data['latestPrice'])\r\n",
        "print(\"MARKET CAPITALIZATION:\", ms_data['marketCap'])"
      ],
      "execution_count": 28,
      "outputs": [
        {
          "output_type": "stream",
          "text": [
            "LATEST PRICE: 234.11\n",
            "MARKET CAPITALIZATION: 1729153670698\n"
          ],
          "name": "stdout"
        }
      ]
    },
    {
      "cell_type": "markdown",
      "metadata": {
        "id": "NW_aSS9ynshb"
      },
      "source": [
        "**NOTE:**\r\n",
        "\r\n",
        "Since we are using sandbox test APIs, the values returned are not real. "
      ]
    },
    {
      "cell_type": "markdown",
      "metadata": {
        "id": "6SsYpYjdP1vB"
      },
      "source": [
        "## Data Preprocessing\r\n"
      ]
    },
    {
      "cell_type": "markdown",
      "metadata": {
        "id": "yJn98sCOQDji"
      },
      "source": [
        "We will now transfer our attained data into a data frame. "
      ]
    },
    {
      "cell_type": "code",
      "metadata": {
        "colab": {
          "base_uri": "https://localhost:8080/",
          "height": 419
        },
        "id": "-t7PGS9RQTDT",
        "outputId": "163f6f45-be6c-45ec-d6a7-206d7c080d04"
      },
      "source": [
        "df_columns = ['Symbol', 'Latest Price','Market Capitalization', 'Number Of Shares to Purchase']\r\n",
        "df = pd.DataFrame(columns=df_columns)\r\n",
        "\r\n",
        "for symbol in sp500['Symbol']:\r\n",
        "    api_url = f'https://sandbox.iexapis.com/stable/stock/{symbol}/quote?token={IEX_CLOUD_API_TOKEN}'\r\n",
        "    data = requests.get(api_url).json()\r\n",
        "    df = df.append(pd.Series([symbol, data['latestPrice'], \r\n",
        "                              data['marketCap'], 'N/A'], index=df_columns), \r\n",
        "                              ignore_index = True)\r\n",
        "df   "
      ],
      "execution_count": 29,
      "outputs": [
        {
          "output_type": "execute_result",
          "data": {
            "text/html": [
              "<div>\n",
              "<style scoped>\n",
              "    .dataframe tbody tr th:only-of-type {\n",
              "        vertical-align: middle;\n",
              "    }\n",
              "\n",
              "    .dataframe tbody tr th {\n",
              "        vertical-align: top;\n",
              "    }\n",
              "\n",
              "    .dataframe thead th {\n",
              "        text-align: right;\n",
              "    }\n",
              "</style>\n",
              "<table border=\"1\" class=\"dataframe\">\n",
              "  <thead>\n",
              "    <tr style=\"text-align: right;\">\n",
              "      <th></th>\n",
              "      <th>Symbol</th>\n",
              "      <th>Latest Price</th>\n",
              "      <th>Market Capitalization</th>\n",
              "      <th>Number Of Shares to Purchase</th>\n",
              "    </tr>\n",
              "  </thead>\n",
              "  <tbody>\n",
              "    <tr>\n",
              "      <th>0</th>\n",
              "      <td>A</td>\n",
              "      <td>132</td>\n",
              "      <td>39234353019</td>\n",
              "      <td>N/A</td>\n",
              "    </tr>\n",
              "    <tr>\n",
              "      <th>1</th>\n",
              "      <td>AAL</td>\n",
              "      <td>16.3</td>\n",
              "      <td>10015910065</td>\n",
              "      <td>N/A</td>\n",
              "    </tr>\n",
              "    <tr>\n",
              "      <th>2</th>\n",
              "      <td>AAP</td>\n",
              "      <td>172</td>\n",
              "      <td>11598099591</td>\n",
              "      <td>N/A</td>\n",
              "    </tr>\n",
              "    <tr>\n",
              "      <th>3</th>\n",
              "      <td>AAPL</td>\n",
              "      <td>142.1</td>\n",
              "      <td>2404888952813</td>\n",
              "      <td>N/A</td>\n",
              "    </tr>\n",
              "    <tr>\n",
              "      <th>4</th>\n",
              "      <td>ABBV</td>\n",
              "      <td>115.51</td>\n",
              "      <td>200925169770</td>\n",
              "      <td>N/A</td>\n",
              "    </tr>\n",
              "    <tr>\n",
              "      <th>...</th>\n",
              "      <td>...</td>\n",
              "      <td>...</td>\n",
              "      <td>...</td>\n",
              "      <td>...</td>\n",
              "    </tr>\n",
              "    <tr>\n",
              "      <th>500</th>\n",
              "      <td>YUM</td>\n",
              "      <td>107.74</td>\n",
              "      <td>33093214402</td>\n",
              "      <td>N/A</td>\n",
              "    </tr>\n",
              "    <tr>\n",
              "      <th>501</th>\n",
              "      <td>ZBH</td>\n",
              "      <td>169.417</td>\n",
              "      <td>34588572110</td>\n",
              "      <td>N/A</td>\n",
              "    </tr>\n",
              "    <tr>\n",
              "      <th>502</th>\n",
              "      <td>ZBRA</td>\n",
              "      <td>413.27</td>\n",
              "      <td>22582138332</td>\n",
              "      <td>N/A</td>\n",
              "    </tr>\n",
              "    <tr>\n",
              "      <th>503</th>\n",
              "      <td>ZION</td>\n",
              "      <td>47.68</td>\n",
              "      <td>8160254259</td>\n",
              "      <td>N/A</td>\n",
              "    </tr>\n",
              "    <tr>\n",
              "      <th>504</th>\n",
              "      <td>ZTS</td>\n",
              "      <td>171.62</td>\n",
              "      <td>79451748282</td>\n",
              "      <td>N/A</td>\n",
              "    </tr>\n",
              "  </tbody>\n",
              "</table>\n",
              "<p>505 rows × 4 columns</p>\n",
              "</div>"
            ],
            "text/plain": [
              "    Symbol Latest Price Market Capitalization Number Of Shares to Purchase\n",
              "0        A          132           39234353019                          N/A\n",
              "1      AAL         16.3           10015910065                          N/A\n",
              "2      AAP          172           11598099591                          N/A\n",
              "3     AAPL        142.1         2404888952813                          N/A\n",
              "4     ABBV       115.51          200925169770                          N/A\n",
              "..     ...          ...                   ...                          ...\n",
              "500    YUM       107.74           33093214402                          N/A\n",
              "501    ZBH      169.417           34588572110                          N/A\n",
              "502   ZBRA       413.27           22582138332                          N/A\n",
              "503   ZION        47.68            8160254259                          N/A\n",
              "504    ZTS       171.62           79451748282                          N/A\n",
              "\n",
              "[505 rows x 4 columns]"
            ]
          },
          "metadata": {
            "tags": []
          },
          "execution_count": 29
        }
      ]
    },
    {
      "cell_type": "markdown",
      "metadata": {
        "id": "jmXGHXlfSjsk"
      },
      "source": [
        "However, we immediately realize this takes quite a long time to process. This is because API calls can be time-consuming. One way to cope with this is to use batch API calls."
      ]
    },
    {
      "cell_type": "code",
      "metadata": {
        "id": "NFmPmWXIUInP"
      },
      "source": [
        "def chunks(lst, n):\r\n",
        "    for i in range(0, len(lst), n):\r\n",
        "        yield lst[i:i + n]"
      ],
      "execution_count": 38,
      "outputs": []
    },
    {
      "cell_type": "code",
      "metadata": {
        "colab": {
          "base_uri": "https://localhost:8080/",
          "height": 419
        },
        "id": "OnT0dFi1UlVm",
        "outputId": "995f4782-c9f3-48dd-9e56-07875179a484"
      },
      "source": [
        "symbol_batch = list(chunks(sp500['Symbol'], 100))\r\n",
        "symbol_strings = []\r\n",
        "\r\n",
        "for batch in symbol_batch:\r\n",
        "    symbol_strings.append(','.join(batch))\r\n",
        "\r\n",
        "df = pd.DataFrame(columns=df_columns)\r\n",
        "\r\n",
        "for symbol_string in symbol_strings:\r\n",
        "\r\n",
        "    batch_api_call_url = f'https://sandbox.iexapis.com/stable/stock/market/batch/?types=quote&symbols={symbol_string}&token={IEX_CLOUD_API_TOKEN}'\r\n",
        "    data = requests.get(batch_api_call_url).json()\r\n",
        "\r\n",
        "    for symbol in symbol_string.split(','):\r\n",
        "        df = df.append(pd.Series([symbol, data[symbol]['quote']['latestPrice'], \r\n",
        "                                  data[symbol]['quote']['marketCap'], 'N/A'], \r\n",
        "                                  index=df_columns), ignore_index = True)\r\n",
        "        \r\n",
        "df"
      ],
      "execution_count": 42,
      "outputs": [
        {
          "output_type": "execute_result",
          "data": {
            "text/html": [
              "<div>\n",
              "<style scoped>\n",
              "    .dataframe tbody tr th:only-of-type {\n",
              "        vertical-align: middle;\n",
              "    }\n",
              "\n",
              "    .dataframe tbody tr th {\n",
              "        vertical-align: top;\n",
              "    }\n",
              "\n",
              "    .dataframe thead th {\n",
              "        text-align: right;\n",
              "    }\n",
              "</style>\n",
              "<table border=\"1\" class=\"dataframe\">\n",
              "  <thead>\n",
              "    <tr style=\"text-align: right;\">\n",
              "      <th></th>\n",
              "      <th>Symbol</th>\n",
              "      <th>Latest Price</th>\n",
              "      <th>Market Capitalization</th>\n",
              "      <th>Number Of Shares to Purchase</th>\n",
              "    </tr>\n",
              "  </thead>\n",
              "  <tbody>\n",
              "    <tr>\n",
              "      <th>0</th>\n",
              "      <td>A</td>\n",
              "      <td>128.870</td>\n",
              "      <td>39141736111</td>\n",
              "      <td>N/A</td>\n",
              "    </tr>\n",
              "    <tr>\n",
              "      <th>1</th>\n",
              "      <td>AAL</td>\n",
              "      <td>15.672</td>\n",
              "      <td>9746614390</td>\n",
              "      <td>N/A</td>\n",
              "    </tr>\n",
              "    <tr>\n",
              "      <th>2</th>\n",
              "      <td>AAP</td>\n",
              "      <td>168.330</td>\n",
              "      <td>11392472602</td>\n",
              "      <td>N/A</td>\n",
              "    </tr>\n",
              "    <tr>\n",
              "      <th>3</th>\n",
              "      <td>AAPL</td>\n",
              "      <td>137.420</td>\n",
              "      <td>2394126337201</td>\n",
              "      <td>N/A</td>\n",
              "    </tr>\n",
              "    <tr>\n",
              "      <th>4</th>\n",
              "      <td>ABBV</td>\n",
              "      <td>111.690</td>\n",
              "      <td>203452084840</td>\n",
              "      <td>N/A</td>\n",
              "    </tr>\n",
              "    <tr>\n",
              "      <th>...</th>\n",
              "      <td>...</td>\n",
              "      <td>...</td>\n",
              "      <td>...</td>\n",
              "      <td>...</td>\n",
              "    </tr>\n",
              "    <tr>\n",
              "      <th>500</th>\n",
              "      <td>YUM</td>\n",
              "      <td>107.870</td>\n",
              "      <td>32497982801</td>\n",
              "      <td>N/A</td>\n",
              "    </tr>\n",
              "    <tr>\n",
              "      <th>501</th>\n",
              "      <td>ZBH</td>\n",
              "      <td>169.130</td>\n",
              "      <td>34339924918</td>\n",
              "      <td>N/A</td>\n",
              "    </tr>\n",
              "    <tr>\n",
              "      <th>502</th>\n",
              "      <td>ZBRA</td>\n",
              "      <td>415.400</td>\n",
              "      <td>22170426877</td>\n",
              "      <td>N/A</td>\n",
              "    </tr>\n",
              "    <tr>\n",
              "      <th>503</th>\n",
              "      <td>ZION</td>\n",
              "      <td>49.433</td>\n",
              "      <td>8138586140</td>\n",
              "      <td>N/A</td>\n",
              "    </tr>\n",
              "    <tr>\n",
              "      <th>504</th>\n",
              "      <td>ZTS</td>\n",
              "      <td>172.160</td>\n",
              "      <td>80430862116</td>\n",
              "      <td>N/A</td>\n",
              "    </tr>\n",
              "  </tbody>\n",
              "</table>\n",
              "<p>505 rows × 4 columns</p>\n",
              "</div>"
            ],
            "text/plain": [
              "    Symbol  Latest Price Market Capitalization Number Of Shares to Purchase\n",
              "0        A       128.870           39141736111                          N/A\n",
              "1      AAL        15.672            9746614390                          N/A\n",
              "2      AAP       168.330           11392472602                          N/A\n",
              "3     AAPL       137.420         2394126337201                          N/A\n",
              "4     ABBV       111.690          203452084840                          N/A\n",
              "..     ...           ...                   ...                          ...\n",
              "500    YUM       107.870           32497982801                          N/A\n",
              "501    ZBH       169.130           34339924918                          N/A\n",
              "502   ZBRA       415.400           22170426877                          N/A\n",
              "503   ZION        49.433            8138586140                          N/A\n",
              "504    ZTS       172.160           80430862116                          N/A\n",
              "\n",
              "[505 rows x 4 columns]"
            ]
          },
          "metadata": {
            "tags": []
          },
          "execution_count": 42
        }
      ]
    },
    {
      "cell_type": "markdown",
      "metadata": {
        "id": "BbPPjjZzkikv"
      },
      "source": [
        "## Calculate the Number of Shares to Purchase"
      ]
    },
    {
      "cell_type": "markdown",
      "metadata": {
        "id": "u2w2zc5AmADE"
      },
      "source": [
        "Given a value of our portfolio, we can now calculate the number of shares of each constituent to purchase.\r\n",
        "\r\n",
        "\r\n"
      ]
    },
    {
      "cell_type": "code",
      "metadata": {
        "colab": {
          "base_uri": "https://localhost:8080/"
        },
        "id": "Q2BbA4K4kpV3",
        "outputId": "6ee55d59-20ca-4626-d7ff-5330f237136e"
      },
      "source": [
        "PORTFOLIO_SIZE = 100000\r\n",
        "\r\n",
        "position_size = float(PORTFOLIO_SIZE) / len(df.index)\r\n",
        "print(position_size)"
      ],
      "execution_count": 60,
      "outputs": [
        {
          "output_type": "stream",
          "text": [
            "198.01980198019803\n"
          ],
          "name": "stdout"
        }
      ]
    },
    {
      "cell_type": "code",
      "metadata": {
        "colab": {
          "base_uri": "https://localhost:8080/",
          "height": 419
        },
        "id": "GoyCU7BDkwc2",
        "outputId": "7fe249fb-517e-4f42-b98b-2e50b18ee3ea"
      },
      "source": [
        "position_size = float(PORTFOLIO_SIZE) / len(df.index)\r\n",
        "\r\n",
        "for i in range(len(df['Symbol'])):\r\n",
        "    df.loc[i, 'Number Of Shares to Purchase'] = math.floor(position_size / df['Latest Price'][i])\r\n",
        "\r\n",
        "df"
      ],
      "execution_count": 61,
      "outputs": [
        {
          "output_type": "execute_result",
          "data": {
            "text/html": [
              "<div>\n",
              "<style scoped>\n",
              "    .dataframe tbody tr th:only-of-type {\n",
              "        vertical-align: middle;\n",
              "    }\n",
              "\n",
              "    .dataframe tbody tr th {\n",
              "        vertical-align: top;\n",
              "    }\n",
              "\n",
              "    .dataframe thead th {\n",
              "        text-align: right;\n",
              "    }\n",
              "</style>\n",
              "<table border=\"1\" class=\"dataframe\">\n",
              "  <thead>\n",
              "    <tr style=\"text-align: right;\">\n",
              "      <th></th>\n",
              "      <th>Symbol</th>\n",
              "      <th>Latest Price</th>\n",
              "      <th>Market Capitalization</th>\n",
              "      <th>Number Of Shares to Purchase</th>\n",
              "    </tr>\n",
              "  </thead>\n",
              "  <tbody>\n",
              "    <tr>\n",
              "      <th>0</th>\n",
              "      <td>A</td>\n",
              "      <td>128.870</td>\n",
              "      <td>39141736111</td>\n",
              "      <td>1</td>\n",
              "    </tr>\n",
              "    <tr>\n",
              "      <th>1</th>\n",
              "      <td>AAL</td>\n",
              "      <td>15.672</td>\n",
              "      <td>9746614390</td>\n",
              "      <td>12</td>\n",
              "    </tr>\n",
              "    <tr>\n",
              "      <th>2</th>\n",
              "      <td>AAP</td>\n",
              "      <td>168.330</td>\n",
              "      <td>11392472602</td>\n",
              "      <td>1</td>\n",
              "    </tr>\n",
              "    <tr>\n",
              "      <th>3</th>\n",
              "      <td>AAPL</td>\n",
              "      <td>137.420</td>\n",
              "      <td>2394126337201</td>\n",
              "      <td>1</td>\n",
              "    </tr>\n",
              "    <tr>\n",
              "      <th>4</th>\n",
              "      <td>ABBV</td>\n",
              "      <td>111.690</td>\n",
              "      <td>203452084840</td>\n",
              "      <td>1</td>\n",
              "    </tr>\n",
              "    <tr>\n",
              "      <th>...</th>\n",
              "      <td>...</td>\n",
              "      <td>...</td>\n",
              "      <td>...</td>\n",
              "      <td>...</td>\n",
              "    </tr>\n",
              "    <tr>\n",
              "      <th>500</th>\n",
              "      <td>YUM</td>\n",
              "      <td>107.870</td>\n",
              "      <td>32497982801</td>\n",
              "      <td>1</td>\n",
              "    </tr>\n",
              "    <tr>\n",
              "      <th>501</th>\n",
              "      <td>ZBH</td>\n",
              "      <td>169.130</td>\n",
              "      <td>34339924918</td>\n",
              "      <td>1</td>\n",
              "    </tr>\n",
              "    <tr>\n",
              "      <th>502</th>\n",
              "      <td>ZBRA</td>\n",
              "      <td>415.400</td>\n",
              "      <td>22170426877</td>\n",
              "      <td>0</td>\n",
              "    </tr>\n",
              "    <tr>\n",
              "      <th>503</th>\n",
              "      <td>ZION</td>\n",
              "      <td>49.433</td>\n",
              "      <td>8138586140</td>\n",
              "      <td>4</td>\n",
              "    </tr>\n",
              "    <tr>\n",
              "      <th>504</th>\n",
              "      <td>ZTS</td>\n",
              "      <td>172.160</td>\n",
              "      <td>80430862116</td>\n",
              "      <td>1</td>\n",
              "    </tr>\n",
              "  </tbody>\n",
              "</table>\n",
              "<p>505 rows × 4 columns</p>\n",
              "</div>"
            ],
            "text/plain": [
              "    Symbol  Latest Price Market Capitalization Number Of Shares to Purchase\n",
              "0        A       128.870           39141736111                            1\n",
              "1      AAL        15.672            9746614390                           12\n",
              "2      AAP       168.330           11392472602                            1\n",
              "3     AAPL       137.420         2394126337201                            1\n",
              "4     ABBV       111.690          203452084840                            1\n",
              "..     ...           ...                   ...                          ...\n",
              "500    YUM       107.870           32497982801                            1\n",
              "501    ZBH       169.130           34339924918                            1\n",
              "502   ZBRA       415.400           22170426877                            0\n",
              "503   ZION        49.433            8138586140                            4\n",
              "504    ZTS       172.160           80430862116                            1\n",
              "\n",
              "[505 rows x 4 columns]"
            ]
          },
          "metadata": {
            "tags": []
          },
          "execution_count": 61
        }
      ]
    }
  ]
}