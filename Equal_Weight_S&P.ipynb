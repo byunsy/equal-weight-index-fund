{
  "nbformat": 4,
  "nbformat_minor": 0,
  "metadata": {
    "colab": {
      "name": "Equal_Weight_S&P.ipynb",
      "provenance": [],
      "collapsed_sections": [],
      "authorship_tag": "ABX9TyMxwZzPPZwA9mM1Yxmq/LuX",
      "include_colab_link": true
    },
    "kernelspec": {
      "name": "python3",
      "display_name": "Python 3"
    }
  },
  "cells": [
    {
      "cell_type": "markdown",
      "metadata": {
        "id": "view-in-github",
        "colab_type": "text"
      },
      "source": [
        "<a href=\"https://colab.research.google.com/github/byunsy/equal-weight-index-fund/blob/main/Equal_Weight_S%26P.ipynb\" target=\"_parent\"><img src=\"https://colab.research.google.com/assets/colab-badge.svg\" alt=\"Open In Colab\"/></a>"
      ]
    },
    {
      "cell_type": "markdown",
      "metadata": {
        "id": "Grfczjy-L7Ga"
      },
      "source": [
        "# Equal-Weight S&P 500 Index Fund"
      ]
    },
    {
      "cell_type": "markdown",
      "metadata": {
        "id": "zL26vzElm4j9"
      },
      "source": [
        "This notebook is quite a short study on how to calculate how many shares of each S&P 500 constituent we should purchase to get an equally weighted index fund. \r\n",
        "\r\n",
        "In an equal-weight index fund, each stock carries the same weight in the index regardless of the size of the company. "
      ]
    },
    {
      "cell_type": "markdown",
      "metadata": {
        "id": "LceYdVelMCVc"
      },
      "source": [
        "## Import Necessary Modules"
      ]
    },
    {
      "cell_type": "code",
      "metadata": {
        "id": "zuOCOa2DLK8W"
      },
      "source": [
        "import numpy as np \r\n",
        "import pandas as pd \r\n",
        "import requests \r\n",
        "import math "
      ],
      "execution_count": 1,
      "outputs": []
    },
    {
      "cell_type": "code",
      "metadata": {
        "id": "X_g9noEVN65I"
      },
      "source": [
        "from google.colab import files\r\n",
        "uploaded = files.upload()"
      ],
      "execution_count": null,
      "outputs": []
    },
    {
      "cell_type": "markdown",
      "metadata": {
        "id": "lIaXQ4aaORbf"
      },
      "source": [
        "## Attain S&P Stock Listing"
      ]
    },
    {
      "cell_type": "markdown",
      "metadata": {
        "id": "52dgnCUKnXYi"
      },
      "source": [
        "Get a list of all the companies in the S&P 500. "
      ]
    },
    {
      "cell_type": "code",
      "metadata": {
        "colab": {
          "base_uri": "https://localhost:8080/",
          "height": 419
        },
        "id": "KdHT-BgOdqEK",
        "outputId": "d1aaf06d-d605-44fd-b8fa-5af89606a863"
      },
      "source": [
        "sp500 = pd.read_csv('sp_500_stocks.csv')\r\n",
        "sp500"
      ],
      "execution_count": 3,
      "outputs": [
        {
          "output_type": "execute_result",
          "data": {
            "text/html": [
              "<div>\n",
              "<style scoped>\n",
              "    .dataframe tbody tr th:only-of-type {\n",
              "        vertical-align: middle;\n",
              "    }\n",
              "\n",
              "    .dataframe tbody tr th {\n",
              "        vertical-align: top;\n",
              "    }\n",
              "\n",
              "    .dataframe thead th {\n",
              "        text-align: right;\n",
              "    }\n",
              "</style>\n",
              "<table border=\"1\" class=\"dataframe\">\n",
              "  <thead>\n",
              "    <tr style=\"text-align: right;\">\n",
              "      <th></th>\n",
              "      <th>Symbol</th>\n",
              "    </tr>\n",
              "  </thead>\n",
              "  <tbody>\n",
              "    <tr>\n",
              "      <th>0</th>\n",
              "      <td>A</td>\n",
              "    </tr>\n",
              "    <tr>\n",
              "      <th>1</th>\n",
              "      <td>AAL</td>\n",
              "    </tr>\n",
              "    <tr>\n",
              "      <th>2</th>\n",
              "      <td>AAP</td>\n",
              "    </tr>\n",
              "    <tr>\n",
              "      <th>3</th>\n",
              "      <td>AAPL</td>\n",
              "    </tr>\n",
              "    <tr>\n",
              "      <th>4</th>\n",
              "      <td>ABBV</td>\n",
              "    </tr>\n",
              "    <tr>\n",
              "      <th>...</th>\n",
              "      <td>...</td>\n",
              "    </tr>\n",
              "    <tr>\n",
              "      <th>500</th>\n",
              "      <td>YUM</td>\n",
              "    </tr>\n",
              "    <tr>\n",
              "      <th>501</th>\n",
              "      <td>ZBH</td>\n",
              "    </tr>\n",
              "    <tr>\n",
              "      <th>502</th>\n",
              "      <td>ZBRA</td>\n",
              "    </tr>\n",
              "    <tr>\n",
              "      <th>503</th>\n",
              "      <td>ZION</td>\n",
              "    </tr>\n",
              "    <tr>\n",
              "      <th>504</th>\n",
              "      <td>ZTS</td>\n",
              "    </tr>\n",
              "  </tbody>\n",
              "</table>\n",
              "<p>505 rows × 1 columns</p>\n",
              "</div>"
            ],
            "text/plain": [
              "    Symbol\n",
              "0        A\n",
              "1      AAL\n",
              "2      AAP\n",
              "3     AAPL\n",
              "4     ABBV\n",
              "..     ...\n",
              "500    YUM\n",
              "501    ZBH\n",
              "502   ZBRA\n",
              "503   ZION\n",
              "504    ZTS\n",
              "\n",
              "[505 rows x 1 columns]"
            ]
          },
          "metadata": {
            "tags": []
          },
          "execution_count": 3
        }
      ]
    },
    {
      "cell_type": "markdown",
      "metadata": {
        "id": "qxr3ftvEOV4r"
      },
      "source": [
        "## API Call"
      ]
    },
    {
      "cell_type": "markdown",
      "metadata": {
        "id": "V3uKEyR0Og57"
      },
      "source": [
        "We first need to have a test api token to use IEX Cloud APIs (This will remain private). You can receive sandbox Text APIs from the IEX Cloud API website. "
      ]
    },
    {
      "cell_type": "code",
      "metadata": {
        "id": "3vZR7kL1OENv"
      },
      "source": [
        "from iex_api import IEX_CLOUD_API_TOKEN"
      ],
      "execution_count": 4,
      "outputs": []
    },
    {
      "cell_type": "code",
      "metadata": {
        "colab": {
          "base_uri": "https://localhost:8080/"
        },
        "id": "4zGgtCBEOc-K",
        "outputId": "7db6f6a0-4e10-4586-d072-7d39aa3ab0d6"
      },
      "source": [
        "# To take an example of what we get from IEX Cloud, we will take Microsoft\r\n",
        "symbol='MSFT'\r\n",
        "api_url = f'https://sandbox.iexapis.com/stable/stock/{symbol}/quote?token={IEX_CLOUD_API_TOKEN}'\r\n",
        "ms_data = requests.get(api_url).json()\r\n",
        "\r\n",
        "ms_data"
      ],
      "execution_count": 5,
      "outputs": [
        {
          "output_type": "execute_result",
          "data": {
            "text/plain": [
              "{'avgTotalVolume': 27033452,\n",
              " 'calculationPrice': 'close',\n",
              " 'change': 0.99,\n",
              " 'changePercent': 0.00457,\n",
              " 'close': 235.04,\n",
              " 'closeSource': 'lcoiffia',\n",
              " 'closeTime': 1646162305010,\n",
              " 'companyName': 'Microsoft Corporation',\n",
              " 'delayedPrice': 234.49,\n",
              " 'delayedPriceTime': 1614659009947,\n",
              " 'extendedChange': 0.76,\n",
              " 'extendedChangePercent': 0.00337,\n",
              " 'extendedPrice': 236.9,\n",
              " 'extendedPriceTime': 1656436944033,\n",
              " 'high': 236.68,\n",
              " 'highSource': 'n  imede15arplui dyetec',\n",
              " 'highTime': 1689210112930,\n",
              " 'iexAskPrice': None,\n",
              " 'iexAskSize': None,\n",
              " 'iexBidPrice': None,\n",
              " 'iexBidSize': None,\n",
              " 'iexClose': 230.92,\n",
              " 'iexCloseTime': 1669257949211,\n",
              " 'iexLastUpdated': None,\n",
              " 'iexMarketPercent': None,\n",
              " 'iexOpen': 235.09,\n",
              " 'iexOpenTime': 1671765145240,\n",
              " 'iexRealtimePrice': None,\n",
              " 'iexRealtimeSize': None,\n",
              " 'iexVolume': None,\n",
              " 'isUSMarketOpen': False,\n",
              " 'lastTradeTime': 1651196572907,\n",
              " 'latestPrice': 233.93,\n",
              " 'latestSource': 'Close',\n",
              " 'latestTime': 'January 22, 2021',\n",
              " 'latestUpdate': 1653502668518,\n",
              " 'latestVolume': 30933321,\n",
              " 'low': 229.1,\n",
              " 'lowSource': '  mun1pe5i yreeiltcadde',\n",
              " 'lowTime': 1667835013862,\n",
              " 'marketCap': 1775547353116,\n",
              " 'oddLotDelayedPrice': 231.81,\n",
              " 'oddLotDelayedPriceTime': 1666534679570,\n",
              " 'open': 230.3,\n",
              " 'openSource': 'fcolifia',\n",
              " 'openTime': 1661655637558,\n",
              " 'peRatio': 36.7,\n",
              " 'previousClose': 225.22,\n",
              " 'previousVolume': 31085137,\n",
              " 'primaryExchange': 'GNQCA SAMGEK /TE(EALBLRA ONTDS)LS',\n",
              " 'symbol': 'MSFT',\n",
              " 'volume': 30924394,\n",
              " 'week52High': 239.46,\n",
              " 'week52Low': 138.38,\n",
              " 'ytdChange': 0.02027700681911496}"
            ]
          },
          "metadata": {
            "tags": []
          },
          "execution_count": 5
        }
      ]
    },
    {
      "cell_type": "markdown",
      "metadata": {
        "id": "HC1m-8NPPuVG"
      },
      "source": [
        "We can now get specific information about our data using indices. "
      ]
    },
    {
      "cell_type": "code",
      "metadata": {
        "colab": {
          "base_uri": "https://localhost:8080/"
        },
        "id": "khNVM2sCPPzL",
        "outputId": "dca6b863-b052-4808-b59b-171ef33405f9"
      },
      "source": [
        "print(\"LATEST PRICE:\", ms_data['latestPrice'])\r\n",
        "print(\"MARKET CAPITALIZATION:\", ms_data['marketCap'])"
      ],
      "execution_count": 6,
      "outputs": [
        {
          "output_type": "stream",
          "text": [
            "LATEST PRICE: 233.93\n",
            "MARKET CAPITALIZATION: 1775547353116\n"
          ],
          "name": "stdout"
        }
      ]
    },
    {
      "cell_type": "markdown",
      "metadata": {
        "id": "NW_aSS9ynshb"
      },
      "source": [
        "**NOTE:**\r\n",
        "\r\n",
        "Since we are using sandbox test APIs, the values returned are not real. "
      ]
    },
    {
      "cell_type": "markdown",
      "metadata": {
        "id": "6SsYpYjdP1vB"
      },
      "source": [
        "## Data Preprocessing\r\n"
      ]
    },
    {
      "cell_type": "markdown",
      "metadata": {
        "id": "yJn98sCOQDji"
      },
      "source": [
        "We will now transfer our attained data into a data frame. "
      ]
    },
    {
      "cell_type": "code",
      "metadata": {
        "id": "-t7PGS9RQTDT"
      },
      "source": [
        "df_columns = ['Symbol', 'Latest Price','Market Capitalization', 'Number Of Shares to Purchase']\r\n",
        "df = pd.DataFrame(columns=df_columns)\r\n",
        "\r\n",
        "for symbol in sp500['Symbol']:\r\n",
        "    api_url = f'https://sandbox.iexapis.com/stable/stock/{symbol}/quote?token={IEX_CLOUD_API_TOKEN}'\r\n",
        "    data = requests.get(api_url).json()\r\n",
        "    df = df.append(pd.Series([symbol, data['latestPrice'], \r\n",
        "                              data['marketCap'], 'N/A'], index=df_columns), \r\n",
        "                              ignore_index = True)\r\n",
        "df   "
      ],
      "execution_count": null,
      "outputs": []
    },
    {
      "cell_type": "markdown",
      "metadata": {
        "id": "jmXGHXlfSjsk"
      },
      "source": [
        "However, we immediately realize this takes quite a long time to process. This is because API calls can be time-consuming. One way to cope with this is to use batch API calls."
      ]
    },
    {
      "cell_type": "code",
      "metadata": {
        "id": "NFmPmWXIUInP"
      },
      "source": [
        "def chunks(lst, n):\r\n",
        "    for i in range(0, len(lst), n):\r\n",
        "        yield lst[i:i + n]"
      ],
      "execution_count": 7,
      "outputs": []
    },
    {
      "cell_type": "code",
      "metadata": {
        "id": "OnT0dFi1UlVm",
        "colab": {
          "base_uri": "https://localhost:8080/",
          "height": 419
        },
        "outputId": "e5050da5-d921-4568-fd97-8a058463e72c"
      },
      "source": [
        "df_columns = ['Symbol', 'Latest Price','Market Capitalization', 'Number Of Shares to Purchase']\r\n",
        "\r\n",
        "symbol_batch = list(chunks(sp500['Symbol'], 100))\r\n",
        "symbol_strings = []\r\n",
        "\r\n",
        "for batch in symbol_batch:\r\n",
        "    symbol_strings.append(','.join(batch))\r\n",
        "\r\n",
        "df = pd.DataFrame(columns=df_columns)\r\n",
        "\r\n",
        "for symbol_string in symbol_strings:\r\n",
        "\r\n",
        "    batch_api_call_url = f'https://sandbox.iexapis.com/stable/stock/market/batch/?types=quote&symbols={symbol_string}&token={IEX_CLOUD_API_TOKEN}'\r\n",
        "    data = requests.get(batch_api_call_url).json()\r\n",
        "\r\n",
        "    for symbol in symbol_string.split(','):\r\n",
        "        df = df.append(pd.Series([symbol, data[symbol]['quote']['latestPrice'], \r\n",
        "                                  data[symbol]['quote']['marketCap'], 'N/A'], \r\n",
        "                                  index=df_columns), ignore_index = True)\r\n",
        "\r\n",
        "# print the data frame        \r\n",
        "df"
      ],
      "execution_count": 9,
      "outputs": [
        {
          "output_type": "execute_result",
          "data": {
            "text/html": [
              "<div>\n",
              "<style scoped>\n",
              "    .dataframe tbody tr th:only-of-type {\n",
              "        vertical-align: middle;\n",
              "    }\n",
              "\n",
              "    .dataframe tbody tr th {\n",
              "        vertical-align: top;\n",
              "    }\n",
              "\n",
              "    .dataframe thead th {\n",
              "        text-align: right;\n",
              "    }\n",
              "</style>\n",
              "<table border=\"1\" class=\"dataframe\">\n",
              "  <thead>\n",
              "    <tr style=\"text-align: right;\">\n",
              "      <th></th>\n",
              "      <th>Symbol</th>\n",
              "      <th>Latest Price</th>\n",
              "      <th>Market Capitalization</th>\n",
              "      <th>Number Of Shares to Purchase</th>\n",
              "    </tr>\n",
              "  </thead>\n",
              "  <tbody>\n",
              "    <tr>\n",
              "      <th>0</th>\n",
              "      <td>A</td>\n",
              "      <td>128.71</td>\n",
              "      <td>38943562989</td>\n",
              "      <td>N/A</td>\n",
              "    </tr>\n",
              "    <tr>\n",
              "      <th>1</th>\n",
              "      <td>AAL</td>\n",
              "      <td>16.09</td>\n",
              "      <td>9972159354</td>\n",
              "      <td>N/A</td>\n",
              "    </tr>\n",
              "    <tr>\n",
              "      <th>2</th>\n",
              "      <td>AAP</td>\n",
              "      <td>164.37</td>\n",
              "      <td>11540042434</td>\n",
              "      <td>N/A</td>\n",
              "    </tr>\n",
              "    <tr>\n",
              "      <th>3</th>\n",
              "      <td>AAPL</td>\n",
              "      <td>143.56</td>\n",
              "      <td>2374028206604</td>\n",
              "      <td>N/A</td>\n",
              "    </tr>\n",
              "    <tr>\n",
              "      <th>4</th>\n",
              "      <td>ABBV</td>\n",
              "      <td>114.91</td>\n",
              "      <td>203867293572</td>\n",
              "      <td>N/A</td>\n",
              "    </tr>\n",
              "    <tr>\n",
              "      <th>...</th>\n",
              "      <td>...</td>\n",
              "      <td>...</td>\n",
              "      <td>...</td>\n",
              "      <td>...</td>\n",
              "    </tr>\n",
              "    <tr>\n",
              "      <th>500</th>\n",
              "      <td>YUM</td>\n",
              "      <td>109.48</td>\n",
              "      <td>32913535941</td>\n",
              "      <td>N/A</td>\n",
              "    </tr>\n",
              "    <tr>\n",
              "      <th>501</th>\n",
              "      <td>ZBH</td>\n",
              "      <td>163.02</td>\n",
              "      <td>34448537292</td>\n",
              "      <td>N/A</td>\n",
              "    </tr>\n",
              "    <tr>\n",
              "      <th>502</th>\n",
              "      <td>ZBRA</td>\n",
              "      <td>414.75</td>\n",
              "      <td>22872921709</td>\n",
              "      <td>N/A</td>\n",
              "    </tr>\n",
              "    <tr>\n",
              "      <th>503</th>\n",
              "      <td>ZION</td>\n",
              "      <td>49.72</td>\n",
              "      <td>8013721567</td>\n",
              "      <td>N/A</td>\n",
              "    </tr>\n",
              "    <tr>\n",
              "      <th>504</th>\n",
              "      <td>ZTS</td>\n",
              "      <td>164.09</td>\n",
              "      <td>79267422734</td>\n",
              "      <td>N/A</td>\n",
              "    </tr>\n",
              "  </tbody>\n",
              "</table>\n",
              "<p>505 rows × 4 columns</p>\n",
              "</div>"
            ],
            "text/plain": [
              "    Symbol  Latest Price Market Capitalization Number Of Shares to Purchase\n",
              "0        A        128.71           38943562989                          N/A\n",
              "1      AAL         16.09            9972159354                          N/A\n",
              "2      AAP        164.37           11540042434                          N/A\n",
              "3     AAPL        143.56         2374028206604                          N/A\n",
              "4     ABBV        114.91          203867293572                          N/A\n",
              "..     ...           ...                   ...                          ...\n",
              "500    YUM        109.48           32913535941                          N/A\n",
              "501    ZBH        163.02           34448537292                          N/A\n",
              "502   ZBRA        414.75           22872921709                          N/A\n",
              "503   ZION         49.72            8013721567                          N/A\n",
              "504    ZTS        164.09           79267422734                          N/A\n",
              "\n",
              "[505 rows x 4 columns]"
            ]
          },
          "metadata": {
            "tags": []
          },
          "execution_count": 9
        }
      ]
    },
    {
      "cell_type": "markdown",
      "metadata": {
        "id": "BbPPjjZzkikv"
      },
      "source": [
        "## Calculate the Number of Shares to Purchase"
      ]
    },
    {
      "cell_type": "markdown",
      "metadata": {
        "id": "u2w2zc5AmADE"
      },
      "source": [
        "Given a value of our portfolio, we can now calculate the number of shares of each constituent to purchase.\r\n",
        "\r\n",
        "\r\n"
      ]
    },
    {
      "cell_type": "code",
      "metadata": {
        "id": "Q2BbA4K4kpV3",
        "colab": {
          "base_uri": "https://localhost:8080/"
        },
        "outputId": "d4abee32-9514-427f-9dfb-db4f467744bc"
      },
      "source": [
        "PORTFOLIO_SIZE = 1000000\r\n",
        "\r\n",
        "position_size = float(PORTFOLIO_SIZE) / len(df.index)\r\n",
        "print(position_size)"
      ],
      "execution_count": 10,
      "outputs": [
        {
          "output_type": "stream",
          "text": [
            "1980.1980198019803\n"
          ],
          "name": "stdout"
        }
      ]
    },
    {
      "cell_type": "code",
      "metadata": {
        "id": "GoyCU7BDkwc2",
        "colab": {
          "base_uri": "https://localhost:8080/",
          "height": 419
        },
        "outputId": "d078544f-217a-4841-d82a-7cd77e93f2f1"
      },
      "source": [
        "position_size = float(PORTFOLIO_SIZE) / len(df.index)\r\n",
        "\r\n",
        "for i in range(len(df['Symbol'])):\r\n",
        "    df.loc[i, 'Number Of Shares to Purchase'] = math.floor(position_size / df['Latest Price'][i])\r\n",
        "\r\n",
        "# print the data frame\r\n",
        "df"
      ],
      "execution_count": 11,
      "outputs": [
        {
          "output_type": "execute_result",
          "data": {
            "text/html": [
              "<div>\n",
              "<style scoped>\n",
              "    .dataframe tbody tr th:only-of-type {\n",
              "        vertical-align: middle;\n",
              "    }\n",
              "\n",
              "    .dataframe tbody tr th {\n",
              "        vertical-align: top;\n",
              "    }\n",
              "\n",
              "    .dataframe thead th {\n",
              "        text-align: right;\n",
              "    }\n",
              "</style>\n",
              "<table border=\"1\" class=\"dataframe\">\n",
              "  <thead>\n",
              "    <tr style=\"text-align: right;\">\n",
              "      <th></th>\n",
              "      <th>Symbol</th>\n",
              "      <th>Latest Price</th>\n",
              "      <th>Market Capitalization</th>\n",
              "      <th>Number Of Shares to Purchase</th>\n",
              "    </tr>\n",
              "  </thead>\n",
              "  <tbody>\n",
              "    <tr>\n",
              "      <th>0</th>\n",
              "      <td>A</td>\n",
              "      <td>128.71</td>\n",
              "      <td>38943562989</td>\n",
              "      <td>15</td>\n",
              "    </tr>\n",
              "    <tr>\n",
              "      <th>1</th>\n",
              "      <td>AAL</td>\n",
              "      <td>16.09</td>\n",
              "      <td>9972159354</td>\n",
              "      <td>123</td>\n",
              "    </tr>\n",
              "    <tr>\n",
              "      <th>2</th>\n",
              "      <td>AAP</td>\n",
              "      <td>164.37</td>\n",
              "      <td>11540042434</td>\n",
              "      <td>12</td>\n",
              "    </tr>\n",
              "    <tr>\n",
              "      <th>3</th>\n",
              "      <td>AAPL</td>\n",
              "      <td>143.56</td>\n",
              "      <td>2374028206604</td>\n",
              "      <td>13</td>\n",
              "    </tr>\n",
              "    <tr>\n",
              "      <th>4</th>\n",
              "      <td>ABBV</td>\n",
              "      <td>114.91</td>\n",
              "      <td>203867293572</td>\n",
              "      <td>17</td>\n",
              "    </tr>\n",
              "    <tr>\n",
              "      <th>...</th>\n",
              "      <td>...</td>\n",
              "      <td>...</td>\n",
              "      <td>...</td>\n",
              "      <td>...</td>\n",
              "    </tr>\n",
              "    <tr>\n",
              "      <th>500</th>\n",
              "      <td>YUM</td>\n",
              "      <td>109.48</td>\n",
              "      <td>32913535941</td>\n",
              "      <td>18</td>\n",
              "    </tr>\n",
              "    <tr>\n",
              "      <th>501</th>\n",
              "      <td>ZBH</td>\n",
              "      <td>163.02</td>\n",
              "      <td>34448537292</td>\n",
              "      <td>12</td>\n",
              "    </tr>\n",
              "    <tr>\n",
              "      <th>502</th>\n",
              "      <td>ZBRA</td>\n",
              "      <td>414.75</td>\n",
              "      <td>22872921709</td>\n",
              "      <td>4</td>\n",
              "    </tr>\n",
              "    <tr>\n",
              "      <th>503</th>\n",
              "      <td>ZION</td>\n",
              "      <td>49.72</td>\n",
              "      <td>8013721567</td>\n",
              "      <td>39</td>\n",
              "    </tr>\n",
              "    <tr>\n",
              "      <th>504</th>\n",
              "      <td>ZTS</td>\n",
              "      <td>164.09</td>\n",
              "      <td>79267422734</td>\n",
              "      <td>12</td>\n",
              "    </tr>\n",
              "  </tbody>\n",
              "</table>\n",
              "<p>505 rows × 4 columns</p>\n",
              "</div>"
            ],
            "text/plain": [
              "    Symbol  Latest Price Market Capitalization Number Of Shares to Purchase\n",
              "0        A        128.71           38943562989                           15\n",
              "1      AAL         16.09            9972159354                          123\n",
              "2      AAP        164.37           11540042434                           12\n",
              "3     AAPL        143.56         2374028206604                           13\n",
              "4     ABBV        114.91          203867293572                           17\n",
              "..     ...           ...                   ...                          ...\n",
              "500    YUM        109.48           32913535941                           18\n",
              "501    ZBH        163.02           34448537292                           12\n",
              "502   ZBRA        414.75           22872921709                            4\n",
              "503   ZION         49.72            8013721567                           39\n",
              "504    ZTS        164.09           79267422734                           12\n",
              "\n",
              "[505 rows x 4 columns]"
            ]
          },
          "metadata": {
            "tags": []
          },
          "execution_count": 11
        }
      ]
    }
  ]
}